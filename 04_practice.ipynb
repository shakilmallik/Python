{
 "cells": [
  {
   "cell_type": "markdown",
   "id": "3ecdc051-332f-4545-b5e8-3deb124b17c8",
   "metadata": {},
   "source": [
    "1. Write a program to store seven fruits in a list entered by the user. "
   ]
  },
  {
   "cell_type": "code",
   "execution_count": 5,
   "id": "97a57686-7bae-4fbc-861a-9977b87f47b4",
   "metadata": {},
   "outputs": [
    {
     "name": "stdin",
     "output_type": "stream",
     "text": [
      "Enter fruit 1:  apple\n",
      "Enter fruit 1:  banana\n",
      "Enter fruit 1:  jackfruit\n",
      "Enter fruit 1:  mango\n",
      "Enter fruit 1:  lichi\n",
      "Enter fruit 1:  draganfruit\n",
      "Enter fruit 1:  papaya\n"
     ]
    },
    {
     "name": "stdout",
     "output_type": "stream",
     "text": [
      "['apple', 'banana', 'jackfruit', 'mango', 'lichi', 'draganfruit', 'papaya']\n"
     ]
    }
   ],
   "source": [
    "fruit1 = input(\"Enter fruit 1: \")\n",
    "fruit2 = input(\"Enter fruit 1: \")\n",
    "fruit3 = input(\"Enter fruit 1: \")\n",
    "fruit4 = input(\"Enter fruit 1: \")\n",
    "fruit5 = input(\"Enter fruit 1: \")\n",
    "fruit6= input(\"Enter fruit 1: \")\n",
    "fruit7 = input(\"Enter fruit 1: \")\n",
    "fruits = [fruit1,fruit2,fruit3,fruit4,fruit5,fruit6,fruit7]\n",
    "print(fruits)"
   ]
  },
  {
   "cell_type": "markdown",
   "id": "b0573f97-2996-4fff-b32f-93a6829566ee",
   "metadata": {},
   "source": [
    "2. Write a program to accept marks of 6 students and display them in a sorted \n",
    "manner. "
   ]
  },
  {
   "cell_type": "code",
   "execution_count": 15,
   "id": "66f495b6-d3c8-47bc-8036-3bcb304b2491",
   "metadata": {},
   "outputs": [
    {
     "name": "stdin",
     "output_type": "stream",
     "text": [
      "Enter mark 1:  34\n",
      "Enter mark 2:  44\n",
      "Enter mark 3:  32\n",
      "Enter mark 4:  67\n",
      "Enter mark 5:  55\n",
      "Enter mark 6:  45\n"
     ]
    },
    {
     "name": "stdout",
     "output_type": "stream",
     "text": [
      "['32', '34', '44', '45', '55', '67']\n"
     ]
    }
   ],
   "source": [
    "student1 = input(\"Enter mark 1: \")\n",
    "student2 = input(\"Enter mark 2: \")\n",
    "student3 = input(\"Enter mark 3: \")\n",
    "student4 = input(\"Enter mark 4: \")\n",
    "student5 = input(\"Enter mark 5: \")\n",
    "student6 = input(\"Enter mark 6: \")\n",
    "students = [student1,student2,student3,student4,student5,student6]\n",
    "students.sort()\n",
    "print(students)"
   ]
  },
  {
   "cell_type": "markdown",
   "id": "5abf2eef-a9bf-4d11-a00d-cd4b85ff6857",
   "metadata": {},
   "source": [
    "3. Check that a tuple type cannot be changed in python. "
   ]
  },
  {
   "cell_type": "code",
   "execution_count": 29,
   "id": "e6139e8d-2af0-46d3-a538-b5303f76502f",
   "metadata": {},
   "outputs": [
    {
     "ename": "TypeError",
     "evalue": "'tuple' object does not support item assignment",
     "output_type": "error",
     "traceback": [
      "\u001b[1;31m---------------------------------------------------------------------------\u001b[0m",
      "\u001b[1;31mTypeError\u001b[0m                                 Traceback (most recent call last)",
      "Cell \u001b[1;32mIn[29], line 3\u001b[0m\n\u001b[0;32m      1\u001b[0m \u001b[38;5;66;03m#define a tuples\u001b[39;00m\n\u001b[0;32m      2\u001b[0m my_tuples \u001b[38;5;241m=\u001b[39m (\u001b[38;5;241m12\u001b[39m,\u001b[38;5;241m33\u001b[39m,\u001b[38;5;241m54\u001b[39m)\n\u001b[1;32m----> 3\u001b[0m my_tuples[\u001b[38;5;241m1\u001b[39m] \u001b[38;5;241m=\u001b[39m \u001b[38;5;241m99\u001b[39m\n",
      "\u001b[1;31mTypeError\u001b[0m: 'tuple' object does not support item assignment"
     ]
    }
   ],
   "source": [
    "#define a tuples\n",
    "my_tuples = (12,33,54)\n",
    "my_tuples[1] = 99"
   ]
  },
  {
   "cell_type": "markdown",
   "id": "ea759acd-0b9d-4e73-ac3d-d27393580c21",
   "metadata": {},
   "source": [
    "4. Write a program to sum a list with 4 numbers. "
   ]
  },
  {
   "cell_type": "code",
   "execution_count": 11,
   "id": "08703d27-bf62-47cd-93c0-47ab3954a296",
   "metadata": {},
   "outputs": [
    {
     "name": "stdin",
     "output_type": "stream",
     "text": [
      "Enter number 1:  2\n",
      "Enter number 2:  2\n",
      "Enter number 3:  2\n",
      "Enter number 4:  2\n"
     ]
    },
    {
     "name": "stdout",
     "output_type": "stream",
     "text": [
      "total number is:  8.0\n"
     ]
    }
   ],
   "source": [
    "num1 = float(input(\"Enter number 1: \"))\n",
    "num2 = float(input(\"Enter number 2: \"))\n",
    "num3 = float(input(\"Enter number 3: \"))\n",
    "num4 = float(input(\"Enter number 4: \"))\n",
    "\n",
    "num = [num1+num2+num3+num4]\n",
    "total = sum(num)\n",
    "print(\"total number is: \", total)\n"
   ]
  },
  {
   "cell_type": "markdown",
   "id": "b8857604-dac8-4f9e-b9f0-a5f81b1303a0",
   "metadata": {},
   "source": [
    "5. Write a program to count the number of zeros in the following tuple: \n",
    "a = (7, 0, 8, 0, 0, 9) "
   ]
  },
  {
   "cell_type": "code",
   "execution_count": 16,
   "id": "4c2b05f3-ebec-4051-a1a8-3f66c745b0d5",
   "metadata": {},
   "outputs": [
    {
     "name": "stdout",
     "output_type": "stream",
     "text": [
      "3\n"
     ]
    }
   ],
   "source": [
    "a = (7,0,8,0,0,9)\n",
    "b=a.count(0)\n",
    "print(b)"
   ]
  },
  {
   "cell_type": "code",
   "execution_count": null,
   "id": "805112bf-4be4-4cf5-85e9-64bcd78043e2",
   "metadata": {},
   "outputs": [],
   "source": []
  }
 ],
 "metadata": {
  "kernelspec": {
   "display_name": "Python [conda env:base] *",
   "language": "python",
   "name": "conda-base-py"
  },
  "language_info": {
   "codemirror_mode": {
    "name": "ipython",
    "version": 3
   },
   "file_extension": ".py",
   "mimetype": "text/x-python",
   "name": "python",
   "nbconvert_exporter": "python",
   "pygments_lexer": "ipython3",
   "version": "3.12.7"
  }
 },
 "nbformat": 4,
 "nbformat_minor": 5
}
