{
 "cells": [
  {
   "cell_type": "markdown",
   "id": "716300a7-9cca-4355-9b61-a4483225d903",
   "metadata": {},
   "source": [
    "### Chapter 5 - Dictionary & sets"
   ]
  },
  {
   "cell_type": "markdown",
   "id": "7edddad8-5978-4969-8e65-3d62b61ede7b",
   "metadata": {},
   "source": [
    "Dictionary is a collection of keys-value pairs."
   ]
  },
  {
   "cell_type": "markdown",
   "id": "b993c83c-94ac-4021-bab2-40f274132001",
   "metadata": {},
   "source": [
    "**Syntex:**"
   ]
  },
  {
   "cell_type": "code",
   "execution_count": 11,
   "id": "625ba5c2-f8bc-48ba-b0b2-9a8815c72915",
   "metadata": {},
   "outputs": [
    {
     "name": "stdout",
     "output_type": "stream",
     "text": [
      "{'key': 'value', 'harry': 'code', 'marks': '100', 'List': [1, 2, 9]}\n",
      "value\n",
      "[1, 2, 9]\n"
     ]
    }
   ],
   "source": [
    "a = {\n",
    "    \"key\": \"value\",\n",
    "    \"harry\": \"code\",\n",
    "    \"marks\": \"100\",\n",
    "    \"List\": [1,2,9]\n",
    "}\n",
    "print(a)\n",
    "print(a[\"key\"])\n",
    "print(a[\"List\"])"
   ]
  },
  {
   "cell_type": "markdown",
   "id": "4234aa0d-a1a4-4f43-9f35-c329d6d4ec6f",
   "metadata": {},
   "source": [
    "### PROPERTIES OF PYTHON DICTIONARIES"
   ]
  },
  {
   "cell_type": "markdown",
   "id": "0821a646-a0f5-4d2e-8748-225bc5383f7d",
   "metadata": {},
   "source": [
    "1. It is unordered.\n",
    "2. it is mutable.\n",
    "3. it is indexed.\n",
    "4. Cannot contain duplicate keys."
   ]
  },
  {
   "cell_type": "markdown",
   "id": "be5d5076-efa0-40a1-b40c-ea224f9b9679",
   "metadata": {},
   "source": [
    "### DICTIONARY METHODS"
   ]
  },
  {
   "cell_type": "code",
   "execution_count": 54,
   "id": "109948c4-0f41-45ad-bf1f-8f0bf7cc942c",
   "metadata": {},
   "outputs": [
    {
     "name": "stdout",
     "output_type": "stream",
     "text": [
      "dict_items([('name', 'harry'), ('from', 'india'), ('marks', [92, 98, 96])])\n",
      "dict_keys(['name', 'from', 'marks'])\n",
      "{'name': 'harry', 'from': 'india', 'marks': [92, 98, 96], 'friends': 'iron'}\n",
      "harry\n"
     ]
    }
   ],
   "source": [
    "a = {\"name\": \"harry\",\n",
    "     \"from\": \"india\",\n",
    "    \"marks\": [92,98,96]}\n",
    "print(a.items())\n",
    "print(a.keys())\n",
    "a.update({\"friends\":\"iron\"})\n",
    "print(a)\n",
    "print(a.get(\"name\"))"
   ]
  },
  {
   "cell_type": "code",
   "execution_count": null,
   "id": "d73ac8f1-a2ae-4812-b140-ed18e6dcbf21",
   "metadata": {},
   "outputs": [],
   "source": []
  }
 ],
 "metadata": {
  "kernelspec": {
   "display_name": "Python [conda env:base] *",
   "language": "python",
   "name": "conda-base-py"
  },
  "language_info": {
   "codemirror_mode": {
    "name": "ipython",
    "version": 3
   },
   "file_extension": ".py",
   "mimetype": "text/x-python",
   "name": "python",
   "nbconvert_exporter": "python",
   "pygments_lexer": "ipython3",
   "version": "3.12.7"
  }
 },
 "nbformat": 4,
 "nbformat_minor": 5
}
