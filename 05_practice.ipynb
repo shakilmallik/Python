{
 "cells": [
  {
   "cell_type": "markdown",
   "id": "d453fdb3-1859-42d7-87b2-b21f4f14c5a5",
   "metadata": {},
   "source": [
    "1. Write a program to create a dictionary of Hindi words with values as their English translation. Provide user with an option to look it up! "
   ]
  },
  {
   "cell_type": "code",
   "execution_count": 11,
   "id": "6f227617-af56-4799-afce-ac959135ebbc",
   "metadata": {},
   "outputs": [
    {
     "name": "stdout",
     "output_type": "stream",
     "text": [
      "Available Hindi word:\n",
      "- paani\n",
      "- roti\n",
      "- ghar\n",
      "- kitab\n",
      "- kursi\n",
      "- pyaar\n",
      "- dost\n",
      "- khushi\n"
     ]
    },
    {
     "name": "stdin",
     "output_type": "stream",
     "text": [
      "\n",
      "Enter the Hindi word:  paani\n"
     ]
    },
    {
     "name": "stdout",
     "output_type": "stream",
     "text": [
      "Hindi to english translaiton:  water\n"
     ]
    }
   ],
   "source": [
    "hindi_to_english = {\n",
    "    \"paani\": \"water\",\n",
    "    \"roti\": \"bread\",\n",
    "    \"ghar\": \"home\",\n",
    "    \"kitab\": \"book\",\n",
    "    \"kursi\": \"chair\",\n",
    "    \"pyaar\": \"love\",\n",
    "    \"dost\": \"friend\",\n",
    "    \"khushi\": \"happiness\"\n",
    "}\n",
    "\n",
    "print(\"Available Hindi word:\")\n",
    "for word in hindi_to_english:\n",
    "    print(\"-\", word)\n",
    "\n",
    "user_input = input(\"\\nEnter the Hindi word: \").strip() .lower()\n",
    "\n",
    "if user_input in hindi_to_english:\n",
    "    print(\"Hindi to english translaiton: \", hindi_to_english[user_input])\n",
    "else:\n",
    "    print(\"sorry word is not found\")"
   ]
  },
  {
   "cell_type": "code",
   "execution_count": null,
   "id": "a7e2d897-5e4c-45b1-b3b1-bc9684b6e5f4",
   "metadata": {},
   "outputs": [],
   "source": []
  }
 ],
 "metadata": {
  "kernelspec": {
   "display_name": "Python [conda env:base] *",
   "language": "python",
   "name": "conda-base-py"
  },
  "language_info": {
   "codemirror_mode": {
    "name": "ipython",
    "version": 3
   },
   "file_extension": ".py",
   "mimetype": "text/x-python",
   "name": "python",
   "nbconvert_exporter": "python",
   "pygments_lexer": "ipython3",
   "version": "3.12.7"
  }
 },
 "nbformat": 4,
 "nbformat_minor": 5
}
